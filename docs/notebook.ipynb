{
 "cells": [
  {
   "attachments": {},
   "cell_type": "markdown",
   "metadata": {},
   "source": [
    "# Test notebook\n",
    "This is a test notebook!\n",
    "\n",
    "$$a^2 + b^2 = c^2$$"
   ]
  },
  {
   "attachments": {},
   "cell_type": "markdown",
   "metadata": {},
   "source": [
    "!!! note\n",
    "    This is a normal note\n",
    "\n",
    "```{note}\n",
    "This is a normal note\n",
    "```\n",
    "\n",
    "<div class=\"admonition note\">\n",
    "    <p class=\"admonition-title\">Note</p>\n",
    "    <p>This is a normal note</p>\n",
    "</div>\n",
    "\n",
    "<div class=\"admonition warning\">\n",
    "    <p class=\"admonition-title\">Warning</p>\n",
    "    <p>This is a warning note</p>\n",
    "</div>"
   ]
  },
  {
   "cell_type": "code",
   "execution_count": 1,
   "metadata": {},
   "outputs": [
    {
     "name": "stdout",
     "output_type": "stream",
     "text": [
      "Hello World\n"
     ]
    }
   ],
   "source": [
    "print(\"Hello World\")"
   ]
  },
  {
   "attachments": {},
   "cell_type": "markdown",
   "metadata": {},
   "source": [
    "<div class=\"tabbed-set tabbed-alternate\" data-tabs=\"1:2\" style=\"--md-indicator-x: 0px; --md-indicator-width: 140px;\"><input checked=\"checked\" id=\"__tabbed_1_1\" name=\"__tabbed_1\" type=\"radio\"><input id=\"__tabbed_1_2\" name=\"__tabbed_1\" type=\"radio\"><div class=\"tabbed-labels\"><label for=\"__tabbed_1_1\">Raw Markdown</label><label for=\"__tabbed_1_2\">Output</label></div>\n",
    "<div class=\"tabbed-content\">\n",
    "<div class=\"tabbed-block\">\n",
    "<div class=\"highlight\"><pre id=\"__code_0\"><span></span><button class=\"md-clipboard md-icon\" title=\"Copy to clipboard\" data-clipboard-target=\"#__code_0 > code\"></button><code><a id=\"__codelineno-0-1\" name=\"__codelineno-0-1\" href=\"#__codelineno-0-1\"></a>=== \"Unordered list\"\n",
    "<a id=\"__codelineno-0-2\" name=\"__codelineno-0-2\" href=\"#__codelineno-0-2\"></a>\n",
    "<a id=\"__codelineno-0-3\" name=\"__codelineno-0-3\" href=\"#__codelineno-0-3\"></a><span class=\"w\">    </span><span class=\"k\">*</span><span class=\"w\"> </span>Sed sagittis eleifend rutrum\n",
    "<a id=\"__codelineno-0-4\" name=\"__codelineno-0-4\" href=\"#__codelineno-0-4\"></a><span class=\"w\">    </span><span class=\"k\">*</span><span class=\"w\"> </span>Donec vitae suscipit est\n",
    "<a id=\"__codelineno-0-5\" name=\"__codelineno-0-5\" href=\"#__codelineno-0-5\"></a><span class=\"w\">    </span><span class=\"k\">*</span><span class=\"w\"> </span>Nulla tempor lobortis orci\n",
    "<a id=\"__codelineno-0-6\" name=\"__codelineno-0-6\" href=\"#__codelineno-0-6\"></a>\n",
    "<a id=\"__codelineno-0-7\" name=\"__codelineno-0-7\" href=\"#__codelineno-0-7\"></a>=== \"Ordered list\"\n",
    "<a id=\"__codelineno-0-8\" name=\"__codelineno-0-8\" href=\"#__codelineno-0-8\"></a>\n",
    "<a id=\"__codelineno-0-9\" name=\"__codelineno-0-9\" href=\"#__codelineno-0-9\"></a><span class=\"w\">    </span><span class=\"k\">1.</span> Sed sagittis eleifend rutrum\n",
    "<a id=\"__codelineno-0-10\" name=\"__codelineno-0-10\" href=\"#__codelineno-0-10\"></a><span class=\"w\">    </span><span class=\"k\">2.</span> Donec vitae suscipit est\n",
    "<a id=\"__codelineno-0-11\" name=\"__codelineno-0-11\" href=\"#__codelineno-0-11\"></a><span class=\"w\">    </span><span class=\"k\">3.</span> Nulla tempor lobortis orci\n",
    "</code></pre></div>\n",
    "</div>\n",
    "<div class=\"tabbed-block\">\n",
    "<div class=\"tabbed-set tabbed-alternate\" data-tabs=\"2:2\" style=\"--md-indicator-x: 0px; --md-indicator-width: 0px;\"><input checked=\"checked\" id=\"__tabbed_2_1\" name=\"__tabbed_2\" type=\"radio\"><input id=\"__tabbed_2_2\" name=\"__tabbed_2\" type=\"radio\"><div class=\"tabbed-labels\"><label for=\"__tabbed_2_1\">Unordered list</label><label for=\"__tabbed_2_2\">Ordered list</label></div>\n",
    "<div class=\"tabbed-content\">\n",
    "<div class=\"tabbed-block\">\n",
    "<ul>\n",
    "<li>Sed sagittis eleifend rutrum</li>\n",
    "<li>Donec vitae suscipit est</li>\n",
    "<li>Nulla tempor lobortis orci</li>\n",
    "</ul>\n",
    "</div>\n",
    "<div class=\"tabbed-block\">\n",
    "<ol>\n",
    "<li>Sed sagittis eleifend rutrum</li>\n",
    "<li>Donec vitae suscipit est</li>\n",
    "<li>Nulla tempor lobortis orci</li>\n",
    "</ol>\n",
    "</div>\n",
    "</div>\n",
    "<div class=\"tabbed-control tabbed-control--prev\" hidden=\"\"><button class=\"tabbed-button\" tabindex=\"-1\" aria-hidden=\"true\"></button></div><div class=\"tabbed-control tabbed-control--next\" hidden=\"\"><button class=\"tabbed-button\" tabindex=\"-1\" aria-hidden=\"true\"></button></div></div>\n",
    "</div>\n",
    "</div>\n",
    "<div class=\"tabbed-control tabbed-control--prev\" hidden=\"\"><button class=\"tabbed-button\" tabindex=\"-1\" aria-hidden=\"true\"></button></div><div class=\"tabbed-control tabbed-control--next\" hidden=\"\"><button class=\"tabbed-button\" tabindex=\"-1\" aria-hidden=\"true\"></button></div></div>"
   ]
  },
  {
   "attachments": {},
   "cell_type": "markdown",
   "metadata": {},
   "source": [
    "Test"
   ]
  },
  {
   "attachments": {},
   "cell_type": "markdown",
   "metadata": {},
   "source": [
    "<div class=\"tabbed-set tabbed-alternate\" data-tabs=\"3:2\" style=\"--md-indicator-x: 0px; --md-indicator-width: 140px;\"><input checked=\"checked\" id=\"__tabbed_3_1\" name=\"__tabbed_3\" type=\"radio\"><input id=\"__tabbed_3_2\" name=\"__tabbed_3\" type=\"radio\"><div class=\"tabbed-labels\"><label for=\"__tabbed_3_1\">Raw Markdown</label><label for=\"__tabbed_3_2\">Output</label></div>\n",
    "<div class=\"tabbed-content\">\n",
    "<div class=\"tabbed-block\">\n",
    "<div class=\"highlight\"><pre id=\"__code_1\"><span></span><button class=\"md-clipboard md-icon\" title=\"Copy to clipboard\" data-clipboard-target=\"#__code_1 > code\"></button><code><a id=\"__codelineno-1-1\" name=\"__codelineno-1-1\" href=\"#__codelineno-1-1\"></a>=== \"C\"\n",
    "<a id=\"__codelineno-1-2\" name=\"__codelineno-1-2\" href=\"#__codelineno-1-2\"></a>\n",
    "<a id=\"__codelineno-1-3\" name=\"__codelineno-1-3\" href=\"#__codelineno-1-3\"></a><span class=\"sb\">    ```c</span>\n",
    "<a id=\"__codelineno-1-4\" name=\"__codelineno-1-4\" href=\"#__codelineno-1-4\"></a><span class=\"w\">    </span><span class=\"cp\">#include</span><span class=\"w\"> </span><span class=\"cpf\">&lt;stdio.h&gt;</span>\n",
    "<a id=\"__codelineno-1-5\" name=\"__codelineno-1-5\" href=\"#__codelineno-1-5\"></a>\n",
    "<a id=\"__codelineno-1-6\" name=\"__codelineno-1-6\" href=\"#__codelineno-1-6\"></a><span class=\"w\">    </span><span class=\"kt\">int</span><span class=\"w\"> </span><span class=\"nf\">main</span><span class=\"p\">(</span><span class=\"kt\">void</span><span class=\"p\">)</span><span class=\"w\"> </span><span class=\"p\">{</span>\n",
    "<a id=\"__codelineno-1-7\" name=\"__codelineno-1-7\" href=\"#__codelineno-1-7\"></a><span class=\"w\">      </span><span class=\"n\">printf</span><span class=\"p\">(</span><span class=\"s\">\"Hello world!</span><span class=\"se\">\\n</span><span class=\"s\">\"</span><span class=\"p\">);</span>\n",
    "<a id=\"__codelineno-1-8\" name=\"__codelineno-1-8\" href=\"#__codelineno-1-8\"></a><span class=\"w\">      </span><span class=\"k\">return</span><span class=\"w\"> </span><span class=\"mi\">0</span><span class=\"p\">;</span>\n",
    "<a id=\"__codelineno-1-9\" name=\"__codelineno-1-9\" href=\"#__codelineno-1-9\"></a><span class=\"w\">    </span><span class=\"p\">}</span>\n",
    "<a id=\"__codelineno-1-10\" name=\"__codelineno-1-10\" href=\"#__codelineno-1-10\"></a><span class=\"sb\">    ```</span>\n",
    "<a id=\"__codelineno-1-11\" name=\"__codelineno-1-11\" href=\"#__codelineno-1-11\"></a>\n",
    "<a id=\"__codelineno-1-12\" name=\"__codelineno-1-12\" href=\"#__codelineno-1-12\"></a>=== \"Python\"\n",
    "<a id=\"__codelineno-1-13\" name=\"__codelineno-1-13\" href=\"#__codelineno-1-13\"></a>\n",
    "<a id=\"__codelineno-1-14\" name=\"__codelineno-1-14\" href=\"#__codelineno-1-14\"></a><span class=\"sb\">    ```python</span>\n",
    "<a id=\"__codelineno-1-15\" name=\"__codelineno-1-15\" href=\"#__codelineno-1-15\"></a>    <span class=\"nb\">print</span><span class=\"p\">(</span><span class=\"s2\">\"Hello world!\"</span><span class=\"p\">)</span>\n",
    "<a id=\"__codelineno-1-16\" name=\"__codelineno-1-16\" href=\"#__codelineno-1-16\"></a><span class=\"sb\">    ```</span>\n",
    "</code></pre></div>\n",
    "</div>\n",
    "<div class=\"tabbed-block\">\n",
    "<div class=\"tabbed-set tabbed-alternate\" data-tabs=\"4:2\" style=\"--md-indicator-x: 0px; --md-indicator-width: 0px;\"><input checked=\"checked\" id=\"__tabbed_4_1\" name=\"__tabbed_4\" type=\"radio\"><input id=\"__tabbed_4_2\" name=\"__tabbed_4\" type=\"radio\"><div class=\"tabbed-labels\"><label for=\"__tabbed_4_1\">C</label><label for=\"__tabbed_4_2\">Python</label></div>\n",
    "<div class=\"tabbed-content\">\n",
    "<div class=\"tabbed-block\">\n",
    "<div class=\"highlight\"><pre id=\"__code_2\"><span></span><button class=\"md-clipboard md-icon\" title=\"Copy to clipboard\" data-clipboard-target=\"#__code_2 > code\"></button><code><a id=\"__codelineno-2-1\" name=\"__codelineno-2-1\" href=\"#__codelineno-2-1\"></a><span class=\"cp\">#include</span><span class=\"w\"> </span><span class=\"cpf\">&lt;stdio.h&gt;</span>\n",
    "<a id=\"__codelineno-2-2\" name=\"__codelineno-2-2\" href=\"#__codelineno-2-2\"></a>\n",
    "<a id=\"__codelineno-2-3\" name=\"__codelineno-2-3\" href=\"#__codelineno-2-3\"></a><span class=\"kt\">int</span><span class=\"w\"> </span><span class=\"nf\">main</span><span class=\"p\">(</span><span class=\"kt\">void</span><span class=\"p\">)</span><span class=\"w\"> </span><span class=\"p\">{</span>\n",
    "<a id=\"__codelineno-2-4\" name=\"__codelineno-2-4\" href=\"#__codelineno-2-4\"></a><span class=\"w\">  </span><span class=\"n\">printf</span><span class=\"p\">(</span><span class=\"s\">\"Hello world!</span><span class=\"se\">\\n</span><span class=\"s\">\"</span><span class=\"p\">);</span>\n",
    "<a id=\"__codelineno-2-5\" name=\"__codelineno-2-5\" href=\"#__codelineno-2-5\"></a><span class=\"w\">  </span><span class=\"k\">return</span><span class=\"w\"> </span><span class=\"mi\">0</span><span class=\"p\">;</span>\n",
    "<a id=\"__codelineno-2-6\" name=\"__codelineno-2-6\" href=\"#__codelineno-2-6\"></a><span class=\"p\">}</span>\n",
    "</code></pre></div>\n",
    "</div>\n",
    "<div class=\"tabbed-block\">\n",
    "<div class=\"highlight\"><pre id=\"__code_3\"><span></span><button class=\"md-clipboard md-icon\" title=\"Copy to clipboard\" data-clipboard-target=\"#__code_3 > code\"></button><code><a id=\"__codelineno-3-1\" name=\"__codelineno-3-1\" href=\"#__codelineno-3-1\"></a><span class=\"nb\">print</span><span class=\"p\">(</span><span class=\"s2\">\"Hello world!\"</span><span class=\"p\">)</span>\n",
    "</code></pre></div>\n",
    "</div>\n",
    "</div>\n",
    "<div class=\"tabbed-control tabbed-control--prev\" hidden=\"\"><button class=\"tabbed-button\" tabindex=\"-1\" aria-hidden=\"true\"></button></div><div class=\"tabbed-control tabbed-control--next\" hidden=\"\"><button class=\"tabbed-button\" tabindex=\"-1\" aria-hidden=\"true\"></button></div></div>\n",
    "</div>\n",
    "</div>\n",
    "<div class=\"tabbed-control tabbed-control--prev\" hidden=\"\"><button class=\"tabbed-button\" tabindex=\"-1\" aria-hidden=\"true\"></button></div><div class=\"tabbed-control tabbed-control--next\" hidden=\"\"><button class=\"tabbed-button\" tabindex=\"-1\" aria-hidden=\"true\"></button></div></div>"
   ]
  },
  {
   "attachments": {},
   "cell_type": "markdown",
   "metadata": {},
   "source": [
    "<div class=\"tabbed-set tabbed-alternate\" data-tabs=\"4:2\" style=\"--md-indicator-x: 46px; --md-indicator-width: 84px;\"><input checked=\"checked\" id=\"__tabbed_4_1\" name=\"__tabbed_4\" type=\"radio\"><input id=\"__tabbed_4_2\" name=\"__tabbed_4\" type=\"radio\"><div class=\"tabbed-labels\"><label for=\"__tabbed_4_1\">C</label><label for=\"__tabbed_4_2\">Python</label></div>\n",
    "<div class=\"tabbed-content\">\n",
    "<div class=\"tabbed-block\">\n",
    "<div class=\"highlight\"><pre id=\"__code_3\"><span></span><button class=\"md-clipboard md-icon\" title=\"Copy to clipboard\" data-clipboard-target=\"#__code_2 > code\"></button><button class=\"md-clipboard md-icon\" title=\"Copy to clipboard\" data-clipboard-target=\"#__code_3 > code\"></button><code><a id=\"__codelineno-2-1\" name=\"__codelineno-2-1\" href=\"#__codelineno-2-1\"></a><span class=\"cp\">#include</span><span class=\"w\"> </span><span class=\"cpf\">&lt;stdio.h&gt;</span>\n",
    "<a id=\"__codelineno-2-2\" name=\"__codelineno-2-2\" href=\"#__codelineno-2-2\"></a>\n",
    "<a id=\"__codelineno-2-3\" name=\"__codelineno-2-3\" href=\"#__codelineno-2-3\"></a><span class=\"kt\">int</span><span class=\"w\"> </span><span class=\"nf\">main</span><span class=\"p\">(</span><span class=\"kt\">void</span><span class=\"p\">)</span><span class=\"w\"> </span><span class=\"p\">{</span>\n",
    "<a id=\"__codelineno-2-4\" name=\"__codelineno-2-4\" href=\"#__codelineno-2-4\"></a><span class=\"w\">  </span><span class=\"n\">printf</span><span class=\"p\">(</span><span class=\"s\">\"Hello world!</span><span class=\"se\">\\n</span><span class=\"s\">\"</span><span class=\"p\">);</span>\n",
    "<a id=\"__codelineno-2-5\" name=\"__codelineno-2-5\" href=\"#__codelineno-2-5\"></a><span class=\"w\">  </span><span class=\"k\">return</span><span class=\"w\"> </span><span class=\"mi\">0</span><span class=\"p\">;</span>\n",
    "<a id=\"__codelineno-2-6\" name=\"__codelineno-2-6\" href=\"#__codelineno-2-6\"></a><span class=\"p\">}</span>\n",
    "</code></pre></div>\n",
    "</div>\n",
    "<div class=\"tabbed-block\">\n",
    "<div class=\"highlight\"><pre id=\"__code_4\"><span></span><button class=\"md-clipboard md-icon\" title=\"Copy to clipboard\" data-clipboard-target=\"#__code_3 > code\"></button><button class=\"md-clipboard md-icon\" title=\"Copy to clipboard\" data-clipboard-target=\"#__code_4 > code\"></button><code><a id=\"__codelineno-3-1\" name=\"__codelineno-3-1\" href=\"#__codelineno-3-1\"></a><span class=\"nb\">print</span><span class=\"p\">(</span><span class=\"s2\">\"Hello world!\"</span><span class=\"p\">)</span>\n",
    "</code></pre></div>\n",
    "</div>\n",
    "</div>\n",
    "<div class=\"tabbed-control tabbed-control--prev\" hidden=\"\"><button class=\"tabbed-button\" tabindex=\"-1\" aria-hidden=\"true\"></button></div><div class=\"tabbed-control tabbed-control--next\" hidden=\"\"><button class=\"tabbed-button\" tabindex=\"-1\" aria-hidden=\"true\"></button></div><div class=\"tabbed-control tabbed-control--prev\" hidden=\"\"><button class=\"tabbed-button\" tabindex=\"-1\" aria-hidden=\"true\"></button></div><div class=\"tabbed-control tabbed-control--next\" hidden=\"\"><button class=\"tabbed-button\" tabindex=\"-1\" aria-hidden=\"true\"></button></div></div>"
   ]
  },
  {
   "cell_type": "code",
   "execution_count": 4,
   "metadata": {},
   "outputs": [],
   "source": [
    "import markdown\n",
    "text = \"A link https://google.com\"\n",
    "html = markdown.markdown(text, extensions=['pymdownx.magiclink'])"
   ]
  },
  {
   "cell_type": "markdown",
   "metadata": {},
   "source": [
    "{{html}}"
   ]
  },
  {
   "cell_type": "code",
   "execution_count": null,
   "metadata": {},
   "outputs": [],
   "source": []
  },
  {
   "cell_type": "code",
   "execution_count": 6,
   "metadata": {},
   "outputs": [],
   "source": [
    "md = markdown.Markdown(extensions=['pymdownx.tabbed'])"
   ]
  },
  {
   "cell_type": "code",
   "execution_count": 8,
   "metadata": {},
   "outputs": [],
   "source": [
    "my_str = '''\n",
    "=== \"Tab 1\"\n",
    "    Markdown **content**.\n",
    "\n",
    "    Multiple paragraphs.\n",
    "\n",
    "=== \"Tab 2\"\n",
    "    More Markdown **content**.\n",
    "\n",
    "    - list item a\n",
    "    - list item b\n",
    "'''"
   ]
  },
  {
   "cell_type": "code",
   "execution_count": 10,
   "metadata": {},
   "outputs": [],
   "source": [
    "md = markdown.Markdown(extensions=['pymdownx.tabbed'])"
   ]
  },
  {
   "cell_type": "code",
   "execution_count": 12,
   "metadata": {},
   "outputs": [],
   "source": [
    "my_html = md.convert(my_str)"
   ]
  },
  {
   "cell_type": "code",
   "execution_count": 17,
   "metadata": {},
   "outputs": [
    {
     "data": {
      "text/html": [
       "/* General environment setup */\n",
       "html {\n",
       "  background-color: black;\n",
       "  height: 100%;\n",
       "}\n",
       "body {\n",
       "  font-size: 120%;\n",
       "  width: 100%;\n",
       "  padding: 1em 2em;\n",
       "  margin: 0 auto;\n",
       "  background-color: white;\n",
       "  height: 100%;\n",
       "}\n",
       "\n",
       "/* Tab style starts here */\n",
       ".tabbed-set {\n",
       "  position: relative;\n",
       "  display: flex;\n",
       "  flex-wrap: wrap;\n",
       "  margin: 1em 0;\n",
       "  border-radius: 0.1rem;\n",
       "}\n",
       "\n",
       ".tabbed-set > input {\n",
       "  display: none;\n",
       "}\n",
       "\n",
       ".tabbed-set label {\n",
       "  width: auto;\n",
       "  padding: 0.9375em 1.25em 0.78125em;\n",
       "  font-weight: 700;\n",
       "  font-size: 0.84em;\n",
       "  white-space: nowrap;\n",
       "  border-bottom: 0.15rem solid transparent;\n",
       "  border-top-left-radius: 0.1rem;\n",
       "  border-top-right-radius: 0.1rem;\n",
       "  cursor: pointer;\n",
       "  transition: background-color 250ms, color 250ms;\n",
       "}\n",
       "\n",
       ".tabbed-set .tabbed-content {\n",
       "  width: 100%;\n",
       "  display: none;\n",
       "  box-shadow: 0 -.05rem #ddd;\n",
       "}\n",
       "\n",
       ".tabbed-set input {\n",
       "  position: absolute;\n",
       "  opacity: 0;\n",
       "}\n",
       "\n",
       ".tabbed-set input:checked:nth-child(n+1) + label {\n",
       "  color: red;\n",
       "  border-color: red;\n",
       "}\n",
       "\n",
       "@media screen {\n",
       "  .tabbed-set input:nth-child(n+1):checked + label + .tabbed-content {\n",
       "    order: 99;\n",
       "    display: block;\n",
       "  }\n",
       "}\n",
       "\n",
       "@media print {\n",
       "  .tabbed-content {\n",
       "    display: contents;\n",
       "  }\n",
       "}\n"
      ],
      "text/plain": [
       "<IPython.core.display.HTML object>"
      ]
     },
     "metadata": {},
     "output_type": "display_data"
    }
   ],
   "source": [
    "%%html\n",
    "/* General environment setup */\n",
    "html {\n",
    "  background-color: black;\n",
    "  height: 100%;\n",
    "}\n",
    "body {\n",
    "  font-size: 120%;\n",
    "  width: 100%;\n",
    "  padding: 1em 2em;\n",
    "  margin: 0 auto;\n",
    "  background-color: white;\n",
    "  height: 100%;\n",
    "}\n",
    "\n",
    "/* Tab style starts here */\n",
    ".tabbed-set {\n",
    "  position: relative;\n",
    "  display: flex;\n",
    "  flex-wrap: wrap;\n",
    "  margin: 1em 0;\n",
    "  border-radius: 0.1rem;\n",
    "}\n",
    "\n",
    ".tabbed-set > input {\n",
    "  display: none;\n",
    "}\n",
    "\n",
    ".tabbed-set label {\n",
    "  width: auto;\n",
    "  padding: 0.9375em 1.25em 0.78125em;\n",
    "  font-weight: 700;\n",
    "  font-size: 0.84em;\n",
    "  white-space: nowrap;\n",
    "  border-bottom: 0.15rem solid transparent;\n",
    "  border-top-left-radius: 0.1rem;\n",
    "  border-top-right-radius: 0.1rem;\n",
    "  cursor: pointer;\n",
    "  transition: background-color 250ms, color 250ms;\n",
    "}\n",
    "\n",
    ".tabbed-set .tabbed-content {\n",
    "  width: 100%;\n",
    "  display: none;\n",
    "  box-shadow: 0 -.05rem #ddd;\n",
    "}\n",
    "\n",
    ".tabbed-set input {\n",
    "  position: absolute;\n",
    "  opacity: 0;\n",
    "}\n",
    "\n",
    ".tabbed-set input:checked:nth-child(n+1) + label {\n",
    "  color: red;\n",
    "  border-color: red;\n",
    "}\n",
    "\n",
    "@media screen {\n",
    "  .tabbed-set input:nth-child(n+1):checked + label + .tabbed-content {\n",
    "    order: 99;\n",
    "    display: block;\n",
    "  }\n",
    "}\n",
    "\n",
    "@media print {\n",
    "  .tabbed-content {\n",
    "    display: contents;\n",
    "  }\n",
    "}\n"
   ]
  },
  {
   "cell_type": "code",
   "execution_count": 14,
   "metadata": {},
   "outputs": [
    {
     "name": "stdout",
     "output_type": "stream",
     "text": [
      "<div class=\"tabbed-set\" data-tabs=\"2:2\"><input checked=\"checked\" id=\"__tabbed_2_1\" name=\"__tabbed_2\" type=\"radio\" /><label for=\"__tabbed_2_1\">Tab 1</label><div class=\"tabbed-content\">\n",
      "<p>Markdown <strong>content</strong>.</p>\n",
      "<p>Multiple paragraphs.</p>\n",
      "</div>\n",
      "<input id=\"__tabbed_2_2\" name=\"__tabbed_2\" type=\"radio\" /><label for=\"__tabbed_2_2\">Tab 2</label><div class=\"tabbed-content\">\n",
      "<p>More Markdown <strong>content</strong>.</p>\n",
      "<ul>\n",
      "<li>list item a</li>\n",
      "<li>list item b</li>\n",
      "</ul>\n",
      "</div>\n",
      "</div>\n"
     ]
    }
   ],
   "source": [
    "print(my_html)"
   ]
  },
  {
   "attachments": {},
   "cell_type": "markdown",
   "metadata": {},
   "source": []
  },
  {
   "cell_type": "code",
   "execution_count": 18,
   "metadata": {},
   "outputs": [
    {
     "data": {
      "text/html": [
       "/* General environment setup */\n",
       "html {\n",
       "    background-color: black;\n",
       "    height: 100%;\n",
       "}\n",
       "\n",
       "body {\n",
       "    font-size: 120%;\n",
       "    width: 100%;\n",
       "    padding: 1em 2em;\n",
       "    margin: 0 auto;\n",
       "    background-color: white;\n",
       "    height: 100%;\n",
       "}\n",
       "\n",
       "/* Tab style starts here */\n",
       ".tabbed-set {\n",
       "    position: relative;\n",
       "    display: flex;\n",
       "    flex-wrap: wrap;\n",
       "    margin: 1em 0;\n",
       "    border-radius: 0.1rem;\n",
       "}\n",
       "\n",
       ".tabbed-set>input {\n",
       "    display: none;\n",
       "}\n",
       "\n",
       ".tabbed-set label {\n",
       "    width: auto;\n",
       "    padding: 0.9375em 1.25em 0.78125em;\n",
       "    font-weight: 700;\n",
       "    font-size: 0.84em;\n",
       "    white-space: nowrap;\n",
       "    border-bottom: 0.15rem solid transparent;\n",
       "    border-top-left-radius: 0.1rem;\n",
       "    border-top-right-radius: 0.1rem;\n",
       "    cursor: pointer;\n",
       "    transition: background-color 250ms, color 250ms;\n",
       "}\n",
       "\n",
       ".tabbed-set .tabbed-content {\n",
       "    width: 100%;\n",
       "    display: none;\n",
       "    box-shadow: 0 -.05rem #ddd;\n",
       "}\n",
       "\n",
       ".tabbed-set input {\n",
       "    position: absolute;\n",
       "    opacity: 0;\n",
       "}\n",
       "\n",
       ".tabbed-set input:checked:nth-child(n+1)+label {\n",
       "    color: red;\n",
       "    border-color: red;\n",
       "}\n",
       "\n",
       "@media screen {\n",
       "    .tabbed-set input:nth-child(n+1):checked+label+.tabbed-content {\n",
       "        order: 99;\n",
       "        display: block;\n",
       "    }\n",
       "}\n",
       "\n",
       "@media print {\n",
       "    .tabbed-content {\n",
       "        display: contents;\n",
       "    }\n",
       "}"
      ],
      "text/plain": [
       "<IPython.core.display.HTML object>"
      ]
     },
     "execution_count": 18,
     "metadata": {},
     "output_type": "execute_result"
    }
   ],
   "source": [
    "from IPython.core.display import HTML\n",
    "def css_styling():\n",
    "    styles = open(\"/Users/zepp/Documents/test/tabbed.css\", \"r\").read()\n",
    "    return HTML(styles)\n",
    "css_styling()"
   ]
  },
  {
   "cell_type": "markdown",
   "metadata": {},
   "source": [
    "<div class=\"tabbed-set\" data-tabs=\"2:2\"><input checked=\"checked\" id=\"__tabbed_2_1\" name=\"__tabbed_2\" type=\"radio\" /><label for=\"__tabbed_2_1\">Tab 1</label><div class=\"tabbed-content\">\n",
    "<p>Markdown <strong>content</strong>.</p>\n",
    "<p>Multiple paragraphs.</p>\n",
    "</div>\n",
    "<input id=\"__tabbed_2_2\" name=\"__tabbed_2\" type=\"radio\" /><label for=\"__tabbed_2_2\">Tab 2</label><div class=\"tabbed-content\">\n",
    "<p>More Markdown <strong>content</strong>.</p>\n",
    "<ul>\n",
    "<li>list item a</li>\n",
    "<li>list item b</li>\n",
    "</ul>\n",
    "</div>\n",
    "</div>"
   ]
  },
  {
   "cell_type": "markdown",
   "metadata": {},
   "source": [
    "<div class=\"tabbed-set\" data-tabs=\"1:3\"><input checked=\"checked\" id=\"__tabbed_1_1\" name=\"__tabbed_1\" type=\"radio\" /><label for=\"__tabbed_1_1\">Tab with a really long title 1</label><div class=\"tabbed-content\">\n",
    "<p>Lorem ipsum ullamco ea aute do sint cupidatat elit nostrud exercitation dolore culpa aliquip nisi commodo nisi qui\n",
    "magna non laborum proident id voluptate in cupidatat duis.</p>\n",
    "</div>\n",
    "<input id=\"__tabbed_1_2\" name=\"__tabbed_1\" type=\"radio\" /><label for=\"__tabbed_1_2\">Tab with a really long title 2</label><div class=\"tabbed-content\">\n",
    "<p>Lorem ipsum ullamco ea aute do sint cupidatat elit nostrud exercitation dolore culpa aliquip nisi commodo nisi qui\n",
    "magna non laborum proident id voluptate in cupidatat duis.</p>\n",
    "</div>\n",
    "<input id=\"__tabbed_1_3\" name=\"__tabbed_1\" type=\"radio\" /><label for=\"__tabbed_1_3\">Tab with a really long title 3</label><div class=\"tabbed-content\">\n",
    "<p>Lorem ipsum ullamco ea aute do sint cupidatat elit nostrud exercitation dolore culpa aliquip nisi commodo nisi qui\n",
    "magna non laborum proident id voluptate in cupidatat duis.</p>\n",
    "</div>\n",
    "</div>"
   ]
  }
 ],
 "metadata": {
  "kernelspec": {
   "display_name": "venv",
   "language": "python",
   "name": "python3"
  },
  "language_info": {
   "codemirror_mode": {
    "name": "ipython",
    "version": 3
   },
   "file_extension": ".py",
   "mimetype": "text/x-python",
   "name": "python",
   "nbconvert_exporter": "python",
   "pygments_lexer": "ipython3",
   "version": "3.10.10"
  },
  "orig_nbformat": 4
 },
 "nbformat": 4,
 "nbformat_minor": 2
}
